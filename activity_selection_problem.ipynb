{
 "cells": [
  {
   "cell_type": "code",
   "execution_count": 1,
   "metadata": {},
   "outputs": [
    {
     "name": "stdout",
     "output_type": "stream",
     "text": [
      "Pasien Terutut Berdasarkan Waktu Selesai (f)\n",
      "10 11\n",
      "12 13\n",
      "9 15\n",
      "15 17\n",
      "14 18\n",
      "17 18\n",
      "\n",
      "Solusi Maksimum Pasien Terpilih\n",
      "10 11\n",
      "12 13\n",
      "15 17\n",
      "17 18\n"
     ]
    }
   ],
   "source": [
    "def greedyActivitySelection(s , f): # berfungsi membuat sebuah method yang bernama activitySelection dengan parameter s dan f\n",
    "    n = len(f) # berfungsi untuk menghitung panjang dari f\n",
    "    temp_start = 0 # berfungsi untuk menampung nilai awal dari s\n",
    "    temp_finish = 0 # berfungsi untuk menampung nilai awal dari f\n",
    "    # Langkah 1\n",
    "    # Berfungsi untuk mengurutkan pasien dalam urutan menaik berdasarkan waktu selesai\n",
    "    for i in range(1,n): # berfungsi untuk melakukan perulangan sebanyak n\n",
    "        for j in range(0,n-1): # berfungsi untuk melakukan perulangan sebanyak n-1\n",
    "            if(f[j] > f[j+1]): # berfungsi untuk melakukan pengecekan apakah nilai f[j] lebih besar dari f[j+1]\n",
    "                temp_start = s[j] # berfungsi untuk menampung nilai s[j] ke dalam temp_start\n",
    "                temp_finish = f[j] # berfungsi untuk menampung nilai f[j] ke dalam temp_finish\n",
    "\n",
    "                f[j] = f[j+1] # berfungsi untuk mengganti nilai f[j] dengan nilai f[j+1]\n",
    "                s[j] = s[j+1] # berfungsi untuk mengganti nilai s[j] dengan nilai s[j+1]\n",
    "\n",
    "                f[j+1] = temp_finish # berfungsi untuk mengganti nilai f[j+1] dengan nilai temp_finish\n",
    "                s[j+1] = temp_start # berfungsi untuk mengganti nilai s[j+1] dengan nilai temp_start\n",
    "                \n",
    "    print(\"Pasien Terutut Berdasarkan Waktu Selesai (f)\") # berfungsi untuk mencetak kata \"Pasien Terutut Berdasarkan Waktu Selesai (f)\"\n",
    "    for j in range(0,n): # berfungsi untuk melakukan perulangan sebanyak n\n",
    "        print (s[j], f[j]) # berfungsi untuk mencetak nilai s[j] dan f[j]\n",
    "\n",
    "    print(\"\\nSolusi Maksimum Pasien Terpilih\") # berfungsi untuk mencetak kata \"Pasien Terpilih Maksimum\"\n",
    "    # Langkah Kedua\n",
    "    i = 0 # berfungsi untuk menampung nilai awal dari i dengan nilai 0\n",
    "    print(s[i], f[i]), # berfungsi untuk mencetak nilai s[i] dan f[i]\n",
    "\n",
    "    # Langkah Ketiga\n",
    "    for j in range(n): # berfungsi untuk melakukan perulangan sebanyak n\n",
    "        if s[j] >= f[i]: # berfungsi untuk melakukan pengecekan apakah nilai s[j] lebih besar dari f[i]\n",
    "            print(s[j], f[j]),  # berfungsi untuk mencetak nilai s[j] dan f[j]\n",
    "            i = j # berfungsi untuk mengganti nilai i dengan nilai j\n",
    "# Data Pasien\n",
    "start = [14, 10, 9, 12, 15, 17] # berfungsi untuk menampung nilai awal dari waktu mulai\n",
    "finish = [18, 11, 15, 13, 17, 18] # berfungsi untuk menampung nilai awal dari waktu selesai\n",
    "\n",
    "greedyActivitySelection(start , finish) # berfungsi untuk memanggil method activitySelection dengan parameter start dan finish"
   ]
  }
 ],
 "metadata": {
  "kernelspec": {
   "display_name": "Python 3.10.8 64-bit",
   "language": "python",
   "name": "python3"
  },
  "language_info": {
   "codemirror_mode": {
    "name": "ipython",
    "version": 3
   },
   "file_extension": ".py",
   "mimetype": "text/x-python",
   "name": "python",
   "nbconvert_exporter": "python",
   "pygments_lexer": "ipython3",
   "version": "3.10.8"
  },
  "orig_nbformat": 4,
  "vscode": {
   "interpreter": {
    "hash": "b0fa6594d8f4cbf19f97940f81e996739fb7646882a419484c72d19e05852a7e"
   }
  }
 },
 "nbformat": 4,
 "nbformat_minor": 2
}
